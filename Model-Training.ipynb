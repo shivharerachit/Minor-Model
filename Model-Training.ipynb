{
 "cells": [
  {
   "cell_type": "code",
   "execution_count": 1,
   "id": "a8794f77-b2fa-4f9b-80a3-9661f1882a0a",
   "metadata": {},
   "outputs": [],
   "source": [
    "import pandas as pd\n",
    "import numpy as np\n",
    "from sklearn.model_selection import train_test_split, StratifiedKFold, cross_val_score, GridSearchCV\n",
    "from sklearn.preprocessing import StandardScaler, LabelEncoder\n",
    "from sklearn.ensemble import GradientBoostingClassifier\n",
    "from sklearn.metrics import accuracy_score, precision_score, recall_score, f1_score, classification_report\n",
    "import joblib\n",
    "import seaborn as sns\n",
    "import matplotlib.pyplot as plt\n",
    "\n",
    "# Load sample dataset\n",
    "file_path = 'indiancrop_dataset.csv'\n",
    "data = pd.read_csv(file_path)"
   ]
  },
  {
   "cell_type": "code",
   "execution_count": 2,
   "id": "d2e8eb71-b7d4-425b-86e7-ca1ec53ef07c",
   "metadata": {},
   "outputs": [
    {
     "data": {
      "text/plain": [
       "['label_encoder.pkl']"
      ]
     },
     "execution_count": 2,
     "metadata": {},
     "output_type": "execute_result"
    }
   ],
   "source": [
    "# Split dataset into features and target\n",
    "X = data.drop(columns=[\"CROP\"])\n",
    "y = data[\"CROP\"]\n",
    "\n",
    "# One-hot encode categorical features\n",
    "X = pd.get_dummies(X, columns=[\"STATE\"], drop_first=True)\n",
    "\n",
    "# Scale numerical features\n",
    "scaler = StandardScaler()\n",
    "numerical_features = [\"N_SOIL\", \"P_SOIL\", \"K_SOIL\", \"TEMPERATURE\", \"HUMIDITY\", \"ph\", \"RAINFALL\"]\n",
    "X[numerical_features] = scaler.fit_transform(X[numerical_features])\n",
    "\n",
    "# Encode the target variable\n",
    "label_encoder = LabelEncoder()\n",
    "y_encoded = label_encoder.fit_transform(y)\n",
    "\n",
    "# Save the scaler and label encoder\n",
    "joblib.dump(scaler, \"scaler.pkl\")\n",
    "joblib.dump(label_encoder, \"label_encoder.pkl\")"
   ]
  },
  {
   "cell_type": "code",
   "execution_count": 3,
   "id": "cd4f42e0-1cf6-4e1a-adcc-ccca8635795b",
   "metadata": {},
   "outputs": [
    {
     "name": "stdout",
     "output_type": "stream",
     "text": [
      "Cross-Validation Accuracy: 0.9955 ± 0.0064\n",
      "Model saved to gradient_boosting_crop_model.pkl\n"
     ]
    }
   ],
   "source": [
    "# Split into train and test sets\n",
    "X_train, X_test, y_train, y_test = train_test_split(X, y_encoded, test_size=0.2, random_state=42, stratify=y_encoded)\n",
    "\n",
    "# Initialize the model\n",
    "gb_model = GradientBoostingClassifier(random_state=42)\n",
    "\n",
    "# Perform stratified k-fold cross-validation\n",
    "cv = StratifiedKFold(n_splits=5, shuffle=True, random_state=42)\n",
    "cv_scores = cross_val_score(gb_model, X_train, y_train, cv=cv, scoring=\"accuracy\")\n",
    "print(f\"Cross-Validation Accuracy: {np.mean(cv_scores):.4f} ± {np.std(cv_scores):.4f}\")\n",
    "\n",
    "# Fit the model\n",
    "gb_model.fit(X_train, y_train)\n",
    "\n",
    "# Save the model\n",
    "joblib.dump(gb_model, \"gradient_boosting_crop_model.pkl\")\n",
    "print(\"Model saved to gradient_boosting_crop_model.pkl\")"
   ]
  },
  {
   "cell_type": "code",
   "execution_count": 4,
   "id": "94f96359-5cff-4375-bd18-60cd61c45a32",
   "metadata": {},
   "outputs": [
    {
     "name": "stdout",
     "output_type": "stream",
     "text": [
      "Accuracy: 0.9977\n",
      "Precision: 0.9978\n",
      "Recall: 0.9977\n",
      "F1 Score: 0.9977\n",
      "\n",
      "Classification Report:\n",
      "              precision    recall  f1-score   support\n",
      "\n",
      "       Apple       1.00      1.00      1.00        20\n",
      "      Banana       1.00      1.00      1.00        20\n",
      "   Blackgram       1.00      1.00      1.00        20\n",
      "    ChickPea       1.00      1.00      1.00        20\n",
      "     Coconut       1.00      0.95      0.97        20\n",
      "      Coffee       1.00      1.00      1.00        20\n",
      "      Cotton       1.00      1.00      1.00        20\n",
      "      Grapes       1.00      1.00      1.00        20\n",
      "        Jute       0.95      1.00      0.98        20\n",
      " KidneyBeans       1.00      1.00      1.00        20\n",
      "      Lentil       1.00      1.00      1.00        20\n",
      "       Maize       1.00      1.00      1.00        20\n",
      "       Mango       1.00      1.00      1.00        20\n",
      "   MothBeans       1.00      1.00      1.00        20\n",
      "    MungBean       1.00      1.00      1.00        20\n",
      "   Muskmelon       1.00      1.00      1.00        20\n",
      "      Orange       1.00      1.00      1.00        20\n",
      "      Papaya       1.00      1.00      1.00        20\n",
      "  PigeonPeas       1.00      1.00      1.00        20\n",
      " Pomegranate       1.00      1.00      1.00        20\n",
      "        Rice       1.00      1.00      1.00        20\n",
      "  Watermelon       1.00      1.00      1.00        20\n",
      "\n",
      "    accuracy                           1.00       440\n",
      "   macro avg       1.00      1.00      1.00       440\n",
      "weighted avg       1.00      1.00      1.00       440\n",
      "\n"
     ]
    }
   ],
   "source": [
    "# Predictions and evaluation\n",
    "y_pred = gb_model.predict(X_test)\n",
    "print(f\"Accuracy: {accuracy_score(y_test, y_pred):.4f}\")\n",
    "print(f\"Precision: {precision_score(y_test, y_pred, average='weighted'):.4f}\")\n",
    "print(f\"Recall: {recall_score(y_test, y_pred, average='weighted'):.4f}\")\n",
    "print(f\"F1 Score: {f1_score(y_test, y_pred, average='weighted'):.4f}\")\n",
    "print(\"\\nClassification Report:\")\n",
    "print(classification_report(y_test, y_pred, target_names=label_encoder.classes_))\n"
   ]
  },
  {
   "cell_type": "code",
   "execution_count": 5,
   "id": "392a2924-5001-4238-9b4b-3f537d1ddc74",
   "metadata": {},
   "outputs": [
    {
     "name": "stdout",
     "output_type": "stream",
     "text": [
      "Best Parameters: {'learning_rate': 0.1, 'max_depth': 3, 'n_estimators': 100}\n",
      "Best Cross-Validation Accuracy: 0.9955\n"
     ]
    }
   ],
   "source": [
    "# Hyperparameter tuning using GridSearchCV\n",
    "param_grid = {\n",
    "    \"n_estimators\": [100, 200],\n",
    "    \"learning_rate\": [0.01, 0.1],\n",
    "    \"max_depth\": [3, 5],\n",
    "}\n",
    "grid_search = GridSearchCV(gb_model, param_grid, cv=cv, scoring=\"accuracy\", n_jobs=-1)\n",
    "grid_search.fit(X_train, y_train)\n",
    "\n",
    "print(f\"Best Parameters: {grid_search.best_params_}\")\n",
    "print(f\"Best Cross-Validation Accuracy: {grid_search.best_score_:.4f}\")\n",
    "\n",
    "# Update model with best parameters\n",
    "best_model = grid_search.best_estimator_"
   ]
  },
  {
   "cell_type": "code",
   "execution_count": 6,
   "id": "f7e7ca51-1b5e-4a4c-9ed6-c483af5a88cf",
   "metadata": {},
   "outputs": [
    {
     "data": {
      "text/plain": [
       "<Figure size 1000x600 with 0 Axes>"
      ]
     },
     "metadata": {},
     "output_type": "display_data"
    },
    {
     "data": {
      "image/png": "[encoded data removed]",
      "text/plain": [
       "<Figure size 640x480 with 1 Axes>"
      ]
     },
     "metadata": {},
     "output_type": "display_data"
    }
   ],
   "source": [
    "# Feature importance visualization\n",
    "importances = gb_model.feature_importances_\n",
    "feature_importances = pd.DataFrame({\n",
    "    \"Feature\": X.columns,\n",
    "    \"Importance\": importances\n",
    "}).sort_values(by=\"Importance\", ascending=False)\n",
    "\n",
    "plt.figure(figsize=(10, 6))\n",
    "feature_importances.head(10).plot(kind=\"barh\", x=\"Feature\", y=\"Importance\", legend=False, color=\"skyblue\")\n",
    "plt.title(\"Top 10 Feature Importances\")\n",
    "plt.xlabel(\"Importance Score\")\n",
    "plt.gca().invert_yaxis()\n",
    "plt.show()\n"
   ]
  }
 ],
 "metadata": {
  "kernelspec": {
   "display_name": "Python 3 (ipykernel)",
   "language": "python",
   "name": "python3"
  },
  "language_info": {
   "codemirror_mode": {
    "name": "ipython",
    "version": 3
   },
   "file_extension": ".py",
   "mimetype": "text/x-python",
   "name": "python",
   "nbconvert_exporter": "python",
   "pygments_lexer": "ipython3",
   "version": "3.12.7"
  }
 },
 "nbformat": 4,
 "nbformat_minor": 5
}
